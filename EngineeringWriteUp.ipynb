{
 "cells": [
  {
   "cell_type": "markdown",
   "id": "limiting-boundary",
   "metadata": {},
   "source": [
    "# End to End Data Pipeline \n",
    "------------------------------------------------------------------------------------------\n",
    "Visualizing NBA and WNBA Data with Streamlit\n",
    "\n",
    "\n",
    "# Abstract \n",
    "------------------------------------------------------------------------------------------\n",
    "\n",
    "The goal of this project is to impliment an End to End Data Pipeline for visualzing and storing NBA and WNBA data. The pipeline aims to include a data source that is not constant but one that changes over time. From there necessary scripts should be written to retrieve that data and efficiently store and visualize it. \n",
    "\n",
    "\n",
    "# Design\n",
    "------------------------------------------------------------------------------------------\n",
    "\n",
    "The design of this project follows a non-linear path, often cycling through different points of the pipeline more than once. First a web scraping script was written to retrieve the data and store it in a python dictionary. From there the data was converted into a pandas data frame and cleaned in preperation for storing it in an SQLite database. Then a streamlit application was developed reading in the necessary data from the SQLite database as a pandas dataframe for ease of use. The streamlit application contains various options for data visualization using streamlits built in checkbox and dropdown menu functionality. The streamlit application utilizes modular programming , as most of the functions are written in a seperate file and imported for cleanliness purposes. \n",
    "\n",
    "# Data\n",
    "------------------------------------------------------------------------------------------\n",
    "\n",
    "The data set was scraped from BasketballRefernce.com. The specific data was the Advanced Statistics table of every NBA and WNBA player since the inception of these leagues. It resulted in over 4800 data points for the NBA and just over 950 data points for the WNBA. An example data point is Player, Season(year),....., TOV%, USG%, OWS, DWS, WS, WSFE, OBPM, DBPM, BPM, and VORP. Each of these statistics is recorded for every year the player participated in the league. \n",
    "\n",
    "\n",
    "# Models\n",
    "------------------------------------------------------------------------------------------\n",
    "\n",
    "None. Hopefully in the future, a nerual network regression model will be run in trying to predict Win Shares.\n",
    "\n",
    "\n",
    "# Results\n",
    "------------------------------------------------------------------------------------------\n",
    "\n",
    "Streamlit application with multilevel functionality \n",
    "\n",
    "# Tools\n",
    "------------------------------------------------------------------------------------------\n",
    "\n",
    "Python Libraries: Sql Alchemy, Pandas, Selinium, Beautiful Soup\n",
    "DataBase : SQLite3\n",
    "User Interface: Streamlit\n"
   ]
  },
  {
   "cell_type": "code",
   "execution_count": null,
   "id": "random-agreement",
   "metadata": {},
   "outputs": [],
   "source": []
  }
 ],
 "metadata": {
  "kernelspec": {
   "display_name": "Python [conda env:metis] *",
   "language": "python",
   "name": "conda-env-metis-py"
  },
  "language_info": {
   "codemirror_mode": {
    "name": "ipython",
    "version": 3
   },
   "file_extension": ".py",
   "mimetype": "text/x-python",
   "name": "python",
   "nbconvert_exporter": "python",
   "pygments_lexer": "ipython3",
   "version": "3.8.8"
  }
 },
 "nbformat": 4,
 "nbformat_minor": 5
}
